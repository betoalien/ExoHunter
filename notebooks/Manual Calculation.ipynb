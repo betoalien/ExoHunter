{
 "cells": [
  {
   "cell_type": "code",
   "execution_count": 1,
   "id": "0b0a781d-e93c-42d5-b7da-cca14ed24e28",
   "metadata": {},
   "outputs": [
    {
     "name": "stdout",
     "output_type": "stream",
     "text": [
      "δ = 0.0001815 (181.5 ppm)\n"
     ]
    }
   ],
   "source": [
    "#Super Earth\n",
    "Rp = 1.63 / 109  # Convertir R_p a R_Sol\n",
    "Rs = 1.11         # R_s en R_Sol\n",
    "delta = (Rp / Rs) ** 2\n",
    "print(f\"δ = {delta:.7f} ({delta*1e6:.1f} ppm)\")"
   ]
  },
  {
   "cell_type": "code",
   "execution_count": 3,
   "id": "7f62fd91-b196-415f-8a23-949c23656513",
   "metadata": {},
   "outputs": [
    {
     "name": "stdout",
     "output_type": "stream",
     "text": [
      "δ = 0.012876 (1.2876%)\n"
     ]
    }
   ],
   "source": [
    "#Jupyter Planet\n",
    "Rp = 1.27 * 11.2 / 109  # Convertir R_p a R_Sol\n",
    "Rs = 1.15               # R_s en R_Sol\n",
    "delta = (Rp / Rs) ** 2\n",
    "print(f\"δ = {delta:.6f} ({delta*100:.4f}%)\")\n"
   ]
  },
  {
   "cell_type": "code",
   "execution_count": null,
   "id": "54d35c7d-d91b-4309-8c23-31ec7d75aaf7",
   "metadata": {},
   "outputs": [],
   "source": []
  }
 ],
 "metadata": {
  "kernelspec": {
   "display_name": "Python 3 (ipykernel)",
   "language": "python",
   "name": "python3"
  },
  "language_info": {
   "codemirror_mode": {
    "name": "ipython",
    "version": 3
   },
   "file_extension": ".py",
   "mimetype": "text/x-python",
   "name": "python",
   "nbconvert_exporter": "python",
   "pygments_lexer": "ipython3",
   "version": "3.11.9"
  }
 },
 "nbformat": 4,
 "nbformat_minor": 5
}
